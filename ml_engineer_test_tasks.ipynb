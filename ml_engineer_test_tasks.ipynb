{
  "cells": [
    {
      "cell_type": "markdown",
      "metadata": {
        "id": "xT8li9DNonVM"
      },
      "source": [
        "# Тестовое задание для направления \"Инженер по машинному обучению\""
      ]
    },
    {
      "cell_type": "markdown",
      "metadata": {
        "id": "HnA6llXoonVP"
      },
      "source": [
        "Перед Вами 3 задачи по машинному обучению и алгоритмам, направленные на предварительную оценку ваших навыков. Вы можете решать задачи в произвольном порядке. Вы можете прикрепить решение задачи, даже если вы не уверены в его правильности или не завершили до конца.\n",
        "\n",
        "Желательно оставлять комментарии к своему решению (к коду, выбранным путям решения задачи).\n",
        "\n",
        "В результате у вас должен получиться один Jupyter Notebook с выполненными или частично выполненными задачами.\n",
        "\n",
        "Желаем удачи!"
      ]
    },
    {
      "cell_type": "markdown",
      "metadata": {
        "id": "of-_N1WNonVQ"
      },
      "source": [
        "### Настройка окружения\n",
        "Для запуска [Jupyter Notebook](https://jupyter-notebook.readthedocs.io/en/stable/notebook.html) вы можете положить `.ipynb` файл на Google Drive и открыть его используя Google Colab. Также вы можете [установить Jupyter Notebook](https://docs.jupyter.org/en/latest/install/notebook-classic.html) к себе на систему."
      ]
    },
    {
      "cell_type": "markdown",
      "metadata": {
        "id": "VUTWr_AGonVR"
      },
      "source": [
        "## Задача 1: Подбор конфигурации двух серверов с одинаковой производительностью\n",
        "#### Легенда:\n",
        "В лаборатории есть несколько разных видеокарт (GPU). Инженеры предварительно проанализировали эти GPU и получили оценки их производительности. Оценки обладают свойством аддитивности: несколько GPU, будучи установлены параллельно в один сервер, дадут суммарную производительность, равную сумме оценок производительности отдельных GPU. Для задач инференса AI-алгоритмов, нужно собрать из этих GPU два сервера с одинаковой производительностью\n",
        "\n",
        "#### Задача:\n",
        "* Написать функцию `build_two_servers`, которая рассчитывает конфигурацию для построения из этих GPU двух серверов, одинаковых по оценочной производительности\n",
        "* Описать алгоритмическую сложность решения\n",
        "\n",
        "#### Входные данные:\n",
        "* На вход в функцию подается кортеж `gpus`, содержащий оценки производительности имеющихся GPU\n",
        "* Оценки целочисленные, положительные, могут повторяться, расположены в произвольном порядке\n",
        "\n",
        "#### Выходные данные:\n",
        "* Функция возвращает кортеж из трех кортежей вида: `(GPUs_for_server_0, GPUs_for_server_1, unused_GPUs)`\n",
        "* Оба сервера равнозначны, поэтому могут возвращаться в любом порядке. Наименования `server_0` и `server_1` условны\n",
        "* Оценки GPU в кортежах перечисляются в порядке возрастания производительности\n",
        "\n",
        "#### Требования:\n",
        "* Максимизировать итоговую производительность серверов\n",
        "* Разница в итоговой производительности серверов недопустима\n",
        "* Если задачу невозможно решить, вернуть ответ с пустыми кортежами GPU для серверов (см. примеры)\n",
        "* Если задача может быть решена несколькими способами, желательно минимизировать число задействованных GPU в серверах.\n",
        "\n",
        "#### Примеры:\n",
        "* `(1, 1)       -> ((1), (1), ())`\n",
        "* `(1, 1, 2, 1) -> ((1, 1), (2), (1))`\n",
        "* `(3, 1)       -> ((), (), (1, 3))`\n",
        "\n",
        "Подсказка: вам может помочь динамическое программирование"
      ]
    },
    {
      "cell_type": "code",
      "execution_count": null,
      "metadata": {
        "id": "d_fj9oy6onVR"
      },
      "outputs": [],
      "source": [
        "def build_two_servers(gpus: tuple) -> tuple:\n",
        "    return ((), (), gpus) # TODO: your implementation"
      ]
    },
    {
      "cell_type": "code",
      "execution_count": null,
      "metadata": {
        "id": "3MWBEokoonVT"
      },
      "outputs": [],
      "source": [
        "# Test your solution\n",
        "various_gpus = (\n",
        "    (1, 1),       # GPUs: (1, 1), server_0: (1), server_1: (1), unused: ()\n",
        "    (1, 1, 2, 1), # GPUs: (1, 1, 2, 1), server_0: (1, 1), server_1: (2), unused: (1)\n",
        "    (3, 1),       # GPUs: (3, 1), server_0: (), server_1: (), unused: (1, 3)\n",
        "    (),           # GPUs: (), server_0: (), server_1: (), unused: ()\n",
        "    (2, 2, 5, 6, 7, 3), # ...\n",
        "    (78, 35, 34, 1, 2, 3, 1, 2, 1, 1)\n",
        ")\n",
        "\n",
        "for gpus in various_gpus:\n",
        "    result = build_two_servers(gpus)\n",
        "    print(f\"GPUs: {gpus}, server_0: {result[0]}, server_0: {result[1]}, unused: {result[2]}\")\n",
        "    assert sum(result[0]) == sum(result[1])"
      ]
    },
    {
      "cell_type": "markdown",
      "metadata": {
        "id": "-t9WY_ZyonVT"
      },
      "source": [
        "## Задача 2: Анализ диалогов из фильма"
      ]
    },
    {
      "cell_type": "markdown",
      "metadata": {
        "id": "5aHolJL9onVU"
      },
      "source": [
        "Проанализируйте датасет с диалогами из фильма, используя различные NLP техники. Заполните пропуски в функциях, представленных ниже."
      ]
    },
    {
      "cell_type": "markdown",
      "metadata": {
        "id": "IrTO7ljtonVU"
      },
      "source": [
        "### Установка необходимых библиотек и загрузка датасета"
      ]
    },
    {
      "cell_type": "code",
      "execution_count": null,
      "metadata": {
        "id": "FMIIdpo4onVU"
      },
      "outputs": [],
      "source": [
        "# Download the necessary libraries\n",
        "! pip install pandas seaborn matplotlib nltk wordcloud transformers wget\n",
        "! pip install torch torchvision torchaudio --index-url https://download.pytorch.org/whl/cpu\n",
        "import nltk\n",
        "nltk.download('stopwords')"
      ]
    },
    {
      "cell_type": "code",
      "execution_count": null,
      "metadata": {
        "id": "KdvUGVVdonVV"
      },
      "outputs": [],
      "source": [
        "# Download and read dataset\n",
        "import pandas as pd\n",
        "import wget\n",
        "filename = wget.download(\"https://drive.usercontent.google.com/download?id=1zO99vPGpw7yi6m45pd-Wq12z9-qXPWnv&confirm=xxx\")\n",
        "\n",
        "dataset = pd.read_csv(filename, sep='\\s+', names=[\"index\",\"character\",\"dialogue\"], header=0)\n",
        "dataset.head()"
      ]
    },
    {
      "cell_type": "markdown",
      "metadata": {
        "id": "RM3nP4FdonVV"
      },
      "source": [
        "### Подзадача 2.1. Постройте гистограмму top-10 персонажей по количеству слов в диалогах\n",
        "Реализуйте функцию `display_characters_word_count_plot`, которая принимает на вход датасет и выводит гистограмму с top-10 персонажами по количеству слов в диалогах. Персонажи расположены на оси Y, а суммарное количество слов во всех репликах соответствующего персонажа расположены на оси X."
      ]
    },
    {
      "cell_type": "code",
      "execution_count": null,
      "metadata": {
        "id": "kg9Sxy6VonVV"
      },
      "outputs": [],
      "source": [
        "def display_characters_word_count_plot(dataset):\n",
        "    # Import the necessary libraries and implement the function that show the plot\n",
        "    pass"
      ]
    },
    {
      "cell_type": "code",
      "execution_count": null,
      "metadata": {
        "id": "RlvyduF4onVV"
      },
      "outputs": [],
      "source": [
        "# Call funtion to display plot\n",
        "display_characters_word_count_plot(dataset)"
      ]
    },
    {
      "cell_type": "markdown",
      "metadata": {
        "id": "p1Cd2INsonVW"
      },
      "source": [
        "### Подзадача 2.2. Определите наиболее часто встречаемые слова в фразах Люка Скайуокера\n",
        "Реализуйте функцию `clean_sentence`, которая убирает числа, символы знаков препинания и стоп-слова (такие как \"the\", \"a\", и т.д.) из предложения для дальнейшего анализа наиболее часто встречаемых слов. Вы можете использовать `nltk` библиотеку, чтобы убрать стоп-слова. Затем, используя библиотеку `WordCloud`, реализуйте функцию `display_character_word_cloud`, которая выводит облако слов для реплик Люка Скайуокера."
      ]
    },
    {
      "cell_type": "code",
      "execution_count": null,
      "metadata": {
        "id": "DJRuCbzMonVW"
      },
      "outputs": [],
      "source": [
        "def clean_sentence(sentence):\n",
        "    cleaned_sentence = sentence\n",
        "\n",
        "    # Import the necessary libraries and implement the function that return cleaned_sentence\n",
        "\n",
        "    return cleaned_sentence"
      ]
    },
    {
      "cell_type": "code",
      "execution_count": null,
      "metadata": {
        "id": "p-bdGHUJonVW"
      },
      "outputs": [],
      "source": [
        "# Create clean_dialogue column using clean_sentence function. Show top-10 most common words.\n",
        "\n",
        "from collections import Counter\n",
        "dataset['clean_dialogue']=dataset['dialogue'].map(lambda sentence:clean_sentence(sentence))\n",
        "common_words = Counter(\" \".join(dataset[\"clean_dialogue\"]).split()).most_common(10)\n",
        "common_words"
      ]
    },
    {
      "cell_type": "code",
      "execution_count": null,
      "metadata": {
        "id": "ooSP46YponVW"
      },
      "outputs": [],
      "source": [
        "def display_character_word_cloud(character_data):\n",
        "    # Import the necessary libraries and implement the function that show the wordcloud\n",
        "    pass"
      ]
    },
    {
      "cell_type": "code",
      "execution_count": null,
      "metadata": {
        "id": "x8e0qrYZonVW"
      },
      "outputs": [],
      "source": [
        "# Call funtion to display Luke Skywalker's WordCloud\n",
        "display_character_word_cloud(dataset[dataset['character']=='LUKE'])"
      ]
    },
    {
      "cell_type": "markdown",
      "metadata": {
        "id": "Es07bzS4onVX"
      },
      "source": [
        "### Подзадача 2.3. Анализ эмоций в диалогах\n",
        "Реализуйте функцию `add_dialogue_emotion_column`, которая добавляет к оригинальному датасету дополнительный столбец \"dialogue_emotion\", который содержит эмоциональную окраску каждой реплики. Для классификации эмоций в репликах используйте модель-трансформер [j-hartmann/emotion-english-distilroberta-base](https://huggingface.co/j-hartmann/emotion-english-distilroberta-base). Каждый элемент столбца \"dialogue_emotion\" содержит метку наиболее вероятной эмоции, полученной после вывода трансформера."
      ]
    },
    {
      "cell_type": "code",
      "execution_count": null,
      "metadata": {
        "id": "OxJYMjNUonVX"
      },
      "outputs": [],
      "source": [
        "def add_dialogue_emotion_column(dataset):\n",
        "    # Import the necessary libraries and implement the function that add 'dialogue_emotion' column to dataset\n",
        "\n",
        "    return dataset"
      ]
    },
    {
      "cell_type": "code",
      "execution_count": null,
      "metadata": {
        "id": "Eqq9jkgtonVX"
      },
      "outputs": [],
      "source": [
        "# Show value_counts of dialogue_emotion column\n",
        "\n",
        "updated_dataset = add_dialogue_emotion_column(dataset)\n",
        "updated_dataset['dialogue_emotion'].value_counts()"
      ]
    },
    {
      "cell_type": "markdown",
      "metadata": {
        "id": "G80xahZMonVX"
      },
      "source": [
        "### Подзадача 2.4. Распределение эмоций Люка Сайуокера\n",
        "Реализуйте функцию `display_most_frequent_emotions_plot`, которая принимает на вход все реплики Люка Сайуокера и выводит гистограмму с распределением эмоций. Эмоции расположены на оси Y, а по оси X количество диалогов, в которых была определена соответствующая эмоция."
      ]
    },
    {
      "cell_type": "code",
      "execution_count": null,
      "metadata": {
        "id": "WOFb53dbonVX"
      },
      "outputs": [],
      "source": [
        "def display_most_frequent_emotions_plot(character_data):\n",
        "    # Import the necessary libraries and implement the function that plot character most frequent emotions\n",
        "    pass"
      ]
    },
    {
      "cell_type": "code",
      "execution_count": null,
      "metadata": {
        "id": "0_oF-hElonVX"
      },
      "outputs": [],
      "source": [
        "# Call funtion to display plot\n",
        "display_most_frequent_emotions_plot(updated_dataset[updated_dataset['character']=='LUKE'])"
      ]
    },
    {
      "cell_type": "markdown",
      "metadata": {
        "id": "tR-KB92ionVX"
      },
      "source": [
        "## Задача 3. Прогнозирование исчерпания места на HDD\n",
        "\n",
        "#### Цель задания:\n",
        "Разработать модель машинного обучения, используя любые библиотеки, для предсказания времени, когда место на жестком диске будет полностью исчерпано. Задание направлено на проверку навыков работы с данными, временными рядами и моделями машинного обучения.\n",
        "\n",
        "#### Датасет:\n",
        "Датасет содержит записи о потреблении места на HDD за определенный период. Каждая запись включает следующие колонки:\n",
        "- `Дата`: дата измерения.\n",
        "- `Использовано_%`: процент использованного пространства HDD на момент измерения.\n",
        "\n",
        "Датасет представлен в формате CSV. [Ссылка для скачивания датасета](https://drive.google.com/file/d/1wZz4N0nw1yH2LGnFy3dPHgDqNanGUkM9/view?usp=sharing).\n",
        "\n",
        "#### Задача:\n",
        "1. Загрузите данные и отобразите графически.\n",
        "2. Очистите данные, если это действительно необходимо (обработка пропусков, удаление аномалий и т.д.).\n",
        "3. Разделите данные на обучающую и тестовую выборки.\n",
        "4. Выберите подходящую модель для задачи прогнозирования данного временного ряда. Приведите примеры других возможных вариантов моделей.\n",
        "5. Обучите модель на обучающей выборке и оцените её качество на тестовой выборке.\n",
        "6. Используя модель, предскажите, когда место на HDD будет полностью исчерпано.\n",
        "7. Визуализируйте результаты прогноза.\n",
        "\n",
        "#### Требования к выполнению:\n",
        "- Используйте Python 3 и известные вам библиотеки для выполнения задания.\n",
        "- Предоставьте Jupyter Notebook с выполненным заданием.\n",
        "- Оформите результаты анализа и выводы в виде отчета внутри Notebook.\n",
        "\n",
        "#### Критерии оценки:\n",
        "- Полнота предварительного анализа данных.\n",
        "- Качество и обоснованность предобработки данных.\n",
        "- Адекватность выбора модели.\n",
        "- Точность предсказаний модели.\n",
        "- Качество и наглядность визуализации результатов.\n",
        "\n",
        "Это задание позволит оценить вашу способность работать с данными и применять методы машинного обучения для решения реальных задач."
      ]
    },
    {
      "cell_type": "code",
      "source": [
        "! pip install wget"
      ],
      "metadata": {
        "id": "liJKgncfqTPG"
      },
      "execution_count": null,
      "outputs": []
    },
    {
      "cell_type": "code",
      "execution_count": null,
      "metadata": {
        "id": "OBUUlvJAonVY"
      },
      "outputs": [],
      "source": [
        "# Helper for download dataset\n",
        "import wget\n",
        "filename = wget.download(\"https://drive.usercontent.google.com/download?id=1wZz4N0nw1yH2LGnFy3dPHgDqNanGUkM9&confirm=xxx\")"
      ]
    }
  ],
  "metadata": {
    "kernelspec": {
      "display_name": "impulse",
      "language": "python",
      "name": "python3"
    },
    "language_info": {
      "codemirror_mode": {
        "name": "ipython",
        "version": 3
      },
      "file_extension": ".py",
      "mimetype": "text/x-python",
      "name": "python",
      "nbconvert_exporter": "python",
      "pygments_lexer": "ipython3",
      "version": "3.10.14"
    },
    "colab": {
      "provenance": []
    }
  },
  "nbformat": 4,
  "nbformat_minor": 0
}